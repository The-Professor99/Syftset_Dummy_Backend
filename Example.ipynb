{
 "cells": [
  {
   "cell_type": "code",
   "execution_count": 1,
   "id": "bdc0c410-5b60-4ce2-9e14-fa3b245ea967",
   "metadata": {},
   "outputs": [],
   "source": [
    "from hedge_fund_models import *"
   ]
  },
  {
   "cell_type": "code",
   "execution_count": 2,
   "id": "d52aa366-7ca8-435c-91ac-ccc059ceae4d",
   "metadata": {},
   "outputs": [],
   "source": [
    "import getpass"
   ]
  },
  {
   "cell_type": "markdown",
   "id": "a13e8f9f-03b5-402b-8935-40a84677aecc",
   "metadata": {},
   "source": [
    "### Create a user instance"
   ]
  },
  {
   "cell_type": "code",
   "execution_count": 3,
   "id": "3b042572-b195-4273-a265-e0e47a41ae3b",
   "metadata": {},
   "outputs": [],
   "source": [
    "user_a = User(\"User A\", \"usera@gmail.com\", id=\"9fcbb09f-2342-49da-8c3f-15142e82e740\")"
   ]
  },
  {
   "cell_type": "code",
   "execution_count": 4,
   "id": "4ef497d9-2594-4eb0-9da5-5062769243a1",
   "metadata": {},
   "outputs": [
    {
     "data": {
      "text/plain": [
       "{'name': 'User A',\n",
       " 'email': 'usera@gmail.com',\n",
       " 'id': '9fcbb09f-2342-49da-8c3f-15142e82e740',\n",
       " 'referred_by': None,\n",
       " 'referrals': [],\n",
       " 'timestamp': datetime.datetime(2025, 1, 21, 12, 43, 50, 436965, tzinfo=datetime.timezone.utc)}"
      ]
     },
     "execution_count": 4,
     "metadata": {},
     "output_type": "execute_result"
    }
   ],
   "source": [
    "user_a.to_dict()"
   ]
  },
  {
   "cell_type": "markdown",
   "id": "9d3dc204-d6b7-4faa-9235-3948bf606185",
   "metadata": {},
   "source": [
    "### Register User"
   ]
  },
  {
   "cell_type": "code",
   "execution_count": 5,
   "id": "17f62289-4694-42b5-a2fb-2abe0b00769d",
   "metadata": {},
   "outputs": [
    {
     "name": "stdin",
     "output_type": "stream",
     "text": [
      "Enter password:  ········\n"
     ]
    }
   ],
   "source": [
    "user_a.register(getpass.getpass(\"Enter password: \"))"
   ]
  },
  {
   "cell_type": "markdown",
   "id": "ce77100f-ab86-4f38-85be-4c2aa94ea18c",
   "metadata": {},
   "source": [
    "### Refer User"
   ]
  },
  {
   "cell_type": "code",
   "execution_count": 6,
   "id": "2ee94fe3-3997-40c1-9872-9c90f5b4d67e",
   "metadata": {},
   "outputs": [],
   "source": [
    "user_b = user_a.refer(\"User B\", \"userb@gmail.com\", id=\"cf10a5c0-e2b5-49a6-8c0c-d6092c635db4\")"
   ]
  },
  {
   "cell_type": "code",
   "execution_count": 7,
   "id": "8f685587-7451-40aa-95b9-1a69beec7eee",
   "metadata": {},
   "outputs": [
    {
     "name": "stdin",
     "output_type": "stream",
     "text": [
      "Enter password:  ········\n"
     ]
    }
   ],
   "source": [
    "user_b.register(getpass.getpass(\"Enter password: \"))"
   ]
  },
  {
   "cell_type": "code",
   "execution_count": 8,
   "id": "9dd8c798-3ab4-4a22-98cb-a2bba3647756",
   "metadata": {},
   "outputs": [
    {
     "data": {
      "text/plain": [
       "{'name': 'User B',\n",
       " 'email': 'userb@gmail.com',\n",
       " 'id': '5f57d2ee-19ba-4b88-a8b6-921d810c6cf3',\n",
       " 'referred_by': '9fcbb09f-2342-49da-8c3f-15142e82e740',\n",
       " 'referrals': [],\n",
       " 'timestamp': datetime.datetime(2025, 1, 21, 12, 44, 5, 261785, tzinfo=datetime.timezone.utc)}"
      ]
     },
     "execution_count": 8,
     "metadata": {},
     "output_type": "execute_result"
    }
   ],
   "source": [
    "user_b.to_dict()"
   ]
  },
  {
   "cell_type": "code",
   "execution_count": 9,
   "id": "d03b0019-eae1-4eb5-840a-5cdc7da6d18b",
   "metadata": {},
   "outputs": [
    {
     "data": {
      "text/plain": [
       "{'name': 'User A',\n",
       " 'email': 'usera@gmail.com',\n",
       " 'id': '9fcbb09f-2342-49da-8c3f-15142e82e740',\n",
       " 'referred_by': None,\n",
       " 'referrals': ['5f57d2ee-19ba-4b88-a8b6-921d810c6cf3'],\n",
       " 'timestamp': datetime.datetime(2025, 1, 21, 12, 43, 50, 436965, tzinfo=datetime.timezone.utc)}"
      ]
     },
     "execution_count": 9,
     "metadata": {},
     "output_type": "execute_result"
    }
   ],
   "source": [
    "user_a.to_dict()"
   ]
  },
  {
   "cell_type": "markdown",
   "id": "783f4c61-84ee-4955-a74a-c0f59e895733",
   "metadata": {},
   "source": [
    "### Refer another user"
   ]
  },
  {
   "cell_type": "code",
   "execution_count": 10,
   "id": "1b1f5ae5-0cf7-4c09-a1c3-bb0e68c99677",
   "metadata": {},
   "outputs": [],
   "source": [
    "user_c = user_a.refer(\"User C\", \"userc@gmail.com\")"
   ]
  },
  {
   "cell_type": "code",
   "execution_count": 11,
   "id": "dd6aa9c1-9e01-49c2-b4a7-8a14965b6652",
   "metadata": {},
   "outputs": [
    {
     "name": "stdin",
     "output_type": "stream",
     "text": [
      "Enter password:  ········\n"
     ]
    }
   ],
   "source": [
    "user_c.register(getpass.getpass(\"Enter password: \"))"
   ]
  },
  {
   "cell_type": "code",
   "execution_count": 12,
   "id": "7baa1bb8-8ddb-483e-ba59-d82ec6178185",
   "metadata": {},
   "outputs": [
    {
     "data": {
      "text/plain": [
       "{'name': 'User C',\n",
       " 'email': 'userc@gmail.com',\n",
       " 'id': '85aafa38-704f-4a21-8bfc-13791e3201e5',\n",
       " 'referred_by': '9fcbb09f-2342-49da-8c3f-15142e82e740',\n",
       " 'referrals': [],\n",
       " 'timestamp': datetime.datetime(2025, 1, 21, 12, 44, 12, 638002, tzinfo=datetime.timezone.utc)}"
      ]
     },
     "execution_count": 12,
     "metadata": {},
     "output_type": "execute_result"
    }
   ],
   "source": [
    "user_c.to_dict()"
   ]
  },
  {
   "cell_type": "code",
   "execution_count": 13,
   "id": "c843eea5-6b3c-478d-a890-f52bdd5ddb3f",
   "metadata": {},
   "outputs": [
    {
     "data": {
      "text/plain": [
       "{'name': 'User A',\n",
       " 'email': 'usera@gmail.com',\n",
       " 'id': '9fcbb09f-2342-49da-8c3f-15142e82e740',\n",
       " 'referred_by': None,\n",
       " 'referrals': ['5f57d2ee-19ba-4b88-a8b6-921d810c6cf3',\n",
       "  '85aafa38-704f-4a21-8bfc-13791e3201e5'],\n",
       " 'timestamp': datetime.datetime(2025, 1, 21, 12, 43, 50, 436965, tzinfo=datetime.timezone.utc)}"
      ]
     },
     "execution_count": 13,
     "metadata": {},
     "output_type": "execute_result"
    }
   ],
   "source": [
    "user_a.to_dict()"
   ]
  },
  {
   "cell_type": "markdown",
   "id": "d8979e9a-9b0e-4947-b1a9-951eb916328f",
   "metadata": {},
   "source": [
    "### Create Accounts"
   ]
  },
  {
   "cell_type": "code",
   "execution_count": 14,
   "id": "bc892dc5-932d-4733-9feb-ee3b891f357b",
   "metadata": {},
   "outputs": [],
   "source": [
    "user_b_account_1 = user_b.create_trading_account(\"crypto-1\", 5400, trading_fee_pct=0.25, upline_commission_pct=0.05)\n",
    "user_c_account_1 = user_c.create_trading_account(\"crypto-1\", 10400, trading_fee_pct=0.2, upline_commission_pct=0.10)"
   ]
  },
  {
   "cell_type": "code",
   "execution_count": 15,
   "id": "6c1afebf-5ea5-4d4e-b76d-38b6a0f47d9d",
   "metadata": {},
   "outputs": [
    {
     "data": {
      "text/plain": [
       "{'id': 'bc53de1c-2499-4308-a314-5db20f24a435',\n",
       " 'user_id': '5f57d2ee-19ba-4b88-a8b6-921d810c6cf3',\n",
       " 'account_type': 'crypto-1',\n",
       " 'balance': 5400.0,\n",
       " 'management_fee_pct': 0.02,\n",
       " 'trading_fee_pct': 0.25,\n",
       " 'total_deposits': 5400.0,\n",
       " 'total_withdrawals': 0.0,\n",
       " 'total_pnl': 0.0,\n",
       " 'total_trading_fee': 0.0,\n",
       " 'total_management_fee': 0.0,\n",
       " 'recent_activities': [{'activity_type': 'deposit',\n",
       "   'description': 'Made a $5400 deposit.',\n",
       "   'timestamp': datetime.datetime(2025, 1, 21, 12, 44, 18, 358283, tzinfo=datetime.timezone.utc)}],\n",
       " 'total_referral_earnings': 0.0,\n",
       " 'total_upline_commission': 0.0,\n",
       " 'upline_commission_pct': 0.05,\n",
       " 'referral_earnings': 0.0,\n",
       " 'can_receive_referral_bonus': True,\n",
       " 'can_yield_referral_bonus': True,\n",
       " 'timestamp': datetime.datetime(2025, 1, 21, 12, 44, 18, 358283, tzinfo=datetime.timezone.utc)}"
      ]
     },
     "execution_count": 15,
     "metadata": {},
     "output_type": "execute_result"
    }
   ],
   "source": [
    "user_b_account_1.to_dict()"
   ]
  },
  {
   "cell_type": "code",
   "execution_count": 16,
   "id": "82bf7c08-0919-4a83-824a-4f58feb3d592",
   "metadata": {},
   "outputs": [
    {
     "data": {
      "text/plain": [
       "{'id': 'a543480d-4f78-4c23-a917-25bf587b1bfb',\n",
       " 'user_id': '85aafa38-704f-4a21-8bfc-13791e3201e5',\n",
       " 'account_type': 'crypto-1',\n",
       " 'balance': 10400.0,\n",
       " 'management_fee_pct': 0.02,\n",
       " 'trading_fee_pct': 0.2,\n",
       " 'total_deposits': 10400.0,\n",
       " 'total_withdrawals': 0.0,\n",
       " 'total_pnl': 0.0,\n",
       " 'total_trading_fee': 0.0,\n",
       " 'total_management_fee': 0.0,\n",
       " 'recent_activities': [{'activity_type': 'deposit',\n",
       "   'description': 'Made a $10400 deposit.',\n",
       "   'timestamp': datetime.datetime(2025, 1, 21, 12, 44, 19, 709709, tzinfo=datetime.timezone.utc)}],\n",
       " 'total_referral_earnings': 0.0,\n",
       " 'total_upline_commission': 0.0,\n",
       " 'upline_commission_pct': 0.1,\n",
       " 'referral_earnings': 0.0,\n",
       " 'can_receive_referral_bonus': True,\n",
       " 'can_yield_referral_bonus': True,\n",
       " 'timestamp': datetime.datetime(2025, 1, 21, 12, 44, 19, 709709, tzinfo=datetime.timezone.utc)}"
      ]
     },
     "execution_count": 16,
     "metadata": {},
     "output_type": "execute_result"
    }
   ],
   "source": [
    "user_c_account_1.to_dict()"
   ]
  },
  {
   "cell_type": "markdown",
   "id": "aaa09559-9bc1-415a-b601-791ef9801b52",
   "metadata": {},
   "source": [
    "### Create and run a TradingSession"
   ]
  },
  {
   "cell_type": "code",
   "execution_count": 17,
   "id": "291ed17d-7b41-4913-b248-6d53ddd14588",
   "metadata": {},
   "outputs": [],
   "source": [
    "session_start_date = datetime.datetime(2024, 1, 1, tzinfo=datetime.timezone.utc)\n",
    "session_end_date = datetime.datetime(2024, 1, 14, 15, 30, 0, tzinfo=datetime.timezone.utc)"
   ]
  },
  {
   "cell_type": "code",
   "execution_count": 18,
   "id": "53484333-1e92-46d5-9a2f-733f343d563b",
   "metadata": {},
   "outputs": [],
   "source": [
    "session_1 = TradingSession(\"crypto-1\", 0.16, 1, session_start_date, session_end_date)"
   ]
  },
  {
   "cell_type": "code",
   "execution_count": 19,
   "id": "278c8888-f8ec-45c3-97a6-b31c6dfe2d8d",
   "metadata": {},
   "outputs": [],
   "source": [
    "session_1.populate_users_and_accounts()"
   ]
  },
  {
   "cell_type": "code",
   "execution_count": 20,
   "id": "90d0d7b4-2992-49b1-8d1e-0f61f9411180",
   "metadata": {},
   "outputs": [],
   "source": [
    "session_1.credit_profits()"
   ]
  },
  {
   "cell_type": "code",
   "execution_count": 21,
   "id": "40a251bf-1c8d-4222-9fb0-ab13805a78c9",
   "metadata": {},
   "outputs": [
    {
     "name": "stdout",
     "output_type": "stream",
     "text": [
      "{'id': 'bc53de1c-2499-4308-a314-5db20f24a435', 'user_id': '5f57d2ee-19ba-4b88-a8b6-921d810c6cf3', 'account_type': 'crypto-1', 'balance': 6004.8, 'management_fee_pct': 0.02, 'trading_fee_pct': 0.25, 'total_deposits': 5400.0, 'total_withdrawals': 0.0, 'total_pnl': 604.8, 'total_trading_fee': 216.0, 'total_management_fee': 0.0, 'recent_activities': [{'activity_type': 'trading_fee', 'description': \"Session 1's trading fee: $216.00\", 'timestamp': datetime.datetime(2024, 1, 14, 15, 30, tzinfo=datetime.timezone.utc)}, {'activity_type': 'trading_outcome', 'description': \"Session 1's return on investment: +$604.80\", 'timestamp': datetime.datetime(2024, 1, 14, 15, 30, tzinfo=datetime.timezone.utc)}, {'activity_type': 'upline_commission', 'description': 'Session 1: $43.20 upline commission to User A', 'timestamp': datetime.datetime(2024, 1, 14, 15, 30, tzinfo=datetime.timezone.utc)}, {'description': 'Made a $5400 deposit.', 'activity_type': 'deposit', 'timestamp': DatetimeWithNanoseconds(2025, 1, 21, 12, 44, 18, 358283, tzinfo=datetime.timezone.utc)}], 'total_referral_earnings': 0.0, 'total_upline_commission': 43.2, 'upline_commission_pct': 0.05, 'referral_earnings': 0.0, 'can_receive_referral_bonus': True, 'can_yield_referral_bonus': True, 'timestamp': DatetimeWithNanoseconds(2025, 1, 21, 12, 44, 18, 358283, tzinfo=datetime.timezone.utc)}\n",
      "\n",
      "\n",
      "{'id': 'a543480d-4f78-4c23-a917-25bf587b1bfb', 'user_id': '85aafa38-704f-4a21-8bfc-13791e3201e5', 'account_type': 'crypto-1', 'balance': 11564.8, 'management_fee_pct': 0.02, 'trading_fee_pct': 0.2, 'total_deposits': 10400.0, 'total_withdrawals': 0.0, 'total_pnl': 1164.8, 'total_trading_fee': 332.8, 'total_management_fee': 0.0, 'recent_activities': [{'activity_type': 'trading_fee', 'description': \"Session 1's trading fee: $332.80\", 'timestamp': datetime.datetime(2024, 1, 14, 15, 30, tzinfo=datetime.timezone.utc)}, {'activity_type': 'trading_outcome', 'description': \"Session 1's return on investment: +$1164.80\", 'timestamp': datetime.datetime(2024, 1, 14, 15, 30, tzinfo=datetime.timezone.utc)}, {'activity_type': 'upline_commission', 'description': 'Session 1: $166.40 upline commission to User A', 'timestamp': datetime.datetime(2024, 1, 14, 15, 30, tzinfo=datetime.timezone.utc)}, {'description': 'Made a $10400 deposit.', 'activity_type': 'deposit', 'timestamp': DatetimeWithNanoseconds(2025, 1, 21, 12, 44, 19, 709709, tzinfo=datetime.timezone.utc)}], 'total_referral_earnings': 0.0, 'total_upline_commission': 166.4, 'upline_commission_pct': 0.1, 'referral_earnings': 0.0, 'can_receive_referral_bonus': True, 'can_yield_referral_bonus': True, 'timestamp': DatetimeWithNanoseconds(2025, 1, 21, 12, 44, 19, 709709, tzinfo=datetime.timezone.utc)}\n",
      "\n",
      "\n"
     ]
    }
   ],
   "source": [
    "for account in session_1.accounts:\n",
    "    print(account.to_dict())\n",
    "    print(\"\\n\")"
   ]
  },
  {
   "cell_type": "code",
   "execution_count": 22,
   "id": "f4ab052d-8aa7-4927-9fe8-0578f3806e92",
   "metadata": {},
   "outputs": [],
   "source": [
    "user_a_account_1 = user_a.get_trading_account_from_firestore(\"crypto-1\") "
   ]
  },
  {
   "cell_type": "code",
   "execution_count": 23,
   "id": "899efe96-89ea-422c-a38e-c80ba58fe4d5",
   "metadata": {},
   "outputs": [
    {
     "data": {
      "text/plain": [
       "{'id': 'ea7aadc5-0400-4c40-b1c9-69d8d2e04ef8',\n",
       " 'user_id': '9fcbb09f-2342-49da-8c3f-15142e82e740',\n",
       " 'account_type': 'crypto-1',\n",
       " 'balance': 0.0,\n",
       " 'management_fee_pct': 0.02,\n",
       " 'trading_fee_pct': 0.25,\n",
       " 'total_deposits': 0.0,\n",
       " 'total_withdrawals': 0.0,\n",
       " 'total_pnl': 0.0,\n",
       " 'total_trading_fee': 0.0,\n",
       " 'total_management_fee': 0.0,\n",
       " 'recent_activities': [{'description': 'Session 1: $166.40 referral bonus from User C',\n",
       "   'activity_type': 'referral_bonus',\n",
       "   'timestamp': DatetimeWithNanoseconds(2024, 1, 14, 15, 30, tzinfo=datetime.timezone.utc)},\n",
       "  {'description': 'Session 1: $43.20 referral bonus from User B',\n",
       "   'activity_type': 'referral_bonus',\n",
       "   'timestamp': DatetimeWithNanoseconds(2024, 1, 14, 15, 30, tzinfo=datetime.timezone.utc)}],\n",
       " 'total_referral_earnings': 209.60000000000002,\n",
       " 'total_upline_commission': 0.0,\n",
       " 'upline_commission_pct': 0.05,\n",
       " 'referral_earnings': 209.60000000000002,\n",
       " 'can_receive_referral_bonus': True,\n",
       " 'can_yield_referral_bonus': True,\n",
       " 'timestamp': DatetimeWithNanoseconds(2025, 1, 21, 12, 44, 25, 387300, tzinfo=datetime.timezone.utc)}"
      ]
     },
     "execution_count": 23,
     "metadata": {},
     "output_type": "execute_result"
    }
   ],
   "source": [
    "user_a_account_1.to_dict()"
   ]
  },
  {
   "cell_type": "code",
   "execution_count": 24,
   "id": "8b2e52f6-59b6-46a3-a435-9bec24edeae9",
   "metadata": {},
   "outputs": [
    {
     "data": {
      "text/plain": [
       "{'id': 'session_1',\n",
       " 'account_type': 'crypto-1',\n",
       " 'profit_percentage': 0.16,\n",
       " 'session_number': 1,\n",
       " 'start_date': datetime.datetime(2024, 1, 1, 0, 0, tzinfo=datetime.timezone.utc),\n",
       " 'end_date': datetime.datetime(2024, 1, 14, 15, 30, tzinfo=datetime.timezone.utc),\n",
       " 'btc_percentage_change': None,\n",
       " 'eth_percentage_change': None}"
      ]
     },
     "execution_count": 24,
     "metadata": {},
     "output_type": "execute_result"
    }
   ],
   "source": [
    "session_1.to_dict()"
   ]
  },
  {
   "cell_type": "code",
   "execution_count": 25,
   "id": "9b6c2ca2-21b9-428c-af93-4ce8ba24dfc6",
   "metadata": {},
   "outputs": [],
   "source": [
    "session_1.save_to_firestore()"
   ]
  },
  {
   "cell_type": "code",
   "execution_count": null,
   "id": "c1ed760e-badd-42a2-9cf9-31136f8d4f6d",
   "metadata": {},
   "outputs": [],
   "source": []
  }
 ],
 "metadata": {
  "kernelspec": {
   "display_name": "Python 3 (ipykernel)",
   "language": "python",
   "name": "python3"
  },
  "language_info": {
   "codemirror_mode": {
    "name": "ipython",
    "version": 3
   },
   "file_extension": ".py",
   "mimetype": "text/x-python",
   "name": "python",
   "nbconvert_exporter": "python",
   "pygments_lexer": "ipython3",
   "version": "3.12.2"
  }
 },
 "nbformat": 4,
 "nbformat_minor": 5
}
